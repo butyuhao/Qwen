{
 "cells": [
  {
   "cell_type": "code",
   "execution_count": 17,
   "metadata": {},
   "outputs": [],
   "source": [
    "from utils_oa import get_dataset\n",
    "import yaml\n",
    "from pathlib import Path\n",
    "import transformers"
   ]
  },
  {
   "cell_type": "code",
   "execution_count": 3,
   "metadata": {},
   "outputs": [],
   "source": [
    "def read_yamls(dir):\n",
    "    conf = {}\n",
    "    no_conf = True\n",
    "\n",
    "    for config_file in Path(dir).glob(\"**/*.yaml\"):\n",
    "        no_conf = False\n",
    "        with config_file.open(\"r\") as f:\n",
    "            conf.update(yaml.safe_load(f))\n",
    "\n",
    "    if no_conf:\n",
    "        print(f\"WARNING: No yaml files found in {dir}\")\n",
    "\n",
    "    return conf"
   ]
  },
  {
   "cell_type": "code",
   "execution_count": 18,
   "metadata": {},
   "outputs": [
    {
     "ename": "TypeError",
     "evalue": "HfArgumentParser.__init__() missing 1 required positional argument: 'dataclass_types'",
     "output_type": "error",
     "traceback": [
      "\u001b[0;31m---------------------------------------------------------------------------\u001b[0m",
      "\u001b[0;31mTypeError\u001b[0m                                 Traceback (most recent call last)",
      "Cell \u001b[0;32mIn[18], line 1\u001b[0m\n\u001b[0;32m----> 1\u001b[0m parser \u001b[38;5;241m=\u001b[39m transformers\u001b[38;5;241m.\u001b[39mHfArgumentParser()\n",
      "\u001b[0;31mTypeError\u001b[0m: HfArgumentParser.__init__() missing 1 required positional argument: 'dataclass_types'"
     ]
    }
   ],
   "source": [
    "parser = transformers.HfArgumentParser()"
   ]
  },
  {
   "cell_type": "code",
   "execution_count": 8,
   "metadata": {},
   "outputs": [],
   "source": [
    "all_configs = read_yamls(\"./configs/\")"
   ]
  },
  {
   "cell_type": "code",
   "execution_count": 14,
   "metadata": {},
   "outputs": [
    {
     "data": {
      "text/plain": [
       "[{'minimath': {'val_split': 0.05, 'max_val_set': 250}},\n",
       " {'gpt4all': {'val_split': 0.01, 'max_val_set': 250}},\n",
       " {'grade_school_math_instructions': {'val_split': 0.05, 'max_val_set': 250}},\n",
       " {'oa_leet10k': {'val_split': 0.05, 'max_val_set': 250}},\n",
       " {'_mix_en': {'val_split': 0.05, 'max_val_set': 2000}},\n",
       " {'_mix_belle': {'val_split': 0.05, 'max_val_set': 2000}},\n",
       " {'_mix_zh_others': {'val_split': 0.05, 'max_val_set': 2000}},\n",
       " {'_gushi_chengyu_pre': {'val_split': 0, 'max_val_set': 250}}]"
      ]
     },
     "execution_count": 14,
     "metadata": {},
     "output_type": "execute_result"
    }
   ],
   "source": [
    "all_configs[\"llama2-7b-pretrain2\"][\"datasets\"]"
   ]
  },
  {
   "cell_type": "code",
   "execution_count": 12,
   "metadata": {},
   "outputs": [
    {
     "ename": "AttributeError",
     "evalue": "'dict' object has no attribute 'datasets'",
     "output_type": "error",
     "traceback": [
      "\u001b[0;31m---------------------------------------------------------------------------\u001b[0m",
      "\u001b[0;31mAttributeError\u001b[0m                            Traceback (most recent call last)",
      "Cell \u001b[0;32mIn[12], line 1\u001b[0m\n\u001b[0;32m----> 1\u001b[0m get_dataset(all_configs[\u001b[38;5;124m\"\u001b[39m\u001b[38;5;124mllama2-7b-pretrain2\u001b[39m\u001b[38;5;124m\"\u001b[39m])\n",
      "File \u001b[0;32m~/Documents/GitHub/Qwen/utils_oa.py:384\u001b[0m, in \u001b[0;36mget_dataset\u001b[0;34m(conf, mode)\u001b[0m\n\u001b[1;32m    379\u001b[0m \u001b[38;5;28;01mdef\u001b[39;00m \u001b[38;5;21mget_dataset\u001b[39m(\n\u001b[1;32m    380\u001b[0m     conf,\n\u001b[1;32m    381\u001b[0m     mode: \u001b[38;5;28mstr\u001b[39m \u001b[38;5;241m=\u001b[39m \u001b[38;5;124m\"\u001b[39m\u001b[38;5;124msft\u001b[39m\u001b[38;5;124m\"\u001b[39m,\n\u001b[1;32m    382\u001b[0m ) \u001b[38;5;241m-\u001b[39m\u001b[38;5;241m>\u001b[39m \u001b[38;5;28mtuple\u001b[39m[ConcatDataset, \u001b[38;5;28mdict\u001b[39m[\u001b[38;5;28mstr\u001b[39m, Subset]]:\n\u001b[1;32m    383\u001b[0m     train_datasets, evals \u001b[38;5;241m=\u001b[39m [], {}\n\u001b[0;32m--> 384\u001b[0m     \u001b[38;5;28;01mfor\u001b[39;00m data_config \u001b[38;5;129;01min\u001b[39;00m conf\u001b[38;5;241m.\u001b[39mdatasets \u001b[38;5;241m+\u001b[39m conf\u001b[38;5;241m.\u001b[39mdatasets_extra:\n\u001b[1;32m    385\u001b[0m         dataset_name, kwargs \u001b[38;5;241m=\u001b[39m get_dataset_name_and_kwargs_from_data_config(data_config)\n\u001b[1;32m    386\u001b[0m         \u001b[38;5;66;03m# print(\"*\"*66,get_dataset_name_and_kwargs_from_data_config(data_config)[1])\u001b[39;00m\n",
      "\u001b[0;31mAttributeError\u001b[0m: 'dict' object has no attribute 'datasets'"
     ]
    }
   ],
   "source": [
    "get_dataset(all_configs[\"llama2-7b-pretrain2\"])"
   ]
  },
  {
   "cell_type": "code",
   "execution_count": null,
   "metadata": {},
   "outputs": [],
   "source": []
  }
 ],
 "metadata": {
  "kernelspec": {
   "display_name": "data",
   "language": "python",
   "name": "python3"
  },
  "language_info": {
   "codemirror_mode": {
    "name": "ipython",
    "version": 3
   },
   "file_extension": ".py",
   "mimetype": "text/x-python",
   "name": "python",
   "nbconvert_exporter": "python",
   "pygments_lexer": "ipython3",
   "version": "3.11.4"
  }
 },
 "nbformat": 4,
 "nbformat_minor": 2
}
